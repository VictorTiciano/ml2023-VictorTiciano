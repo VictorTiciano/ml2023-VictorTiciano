{
 "cells": [
  {
   "cell_type": "code",
   "execution_count": 1,
   "metadata": {},
   "outputs": [
    {
     "name": "stdout",
     "output_type": "stream",
     "text": [
      "Downloading data from https://storage.googleapis.com/tensorflow/tf-keras-datasets/train-labels-idx1-ubyte.gz\n",
      "29515/29515 [==============================] - 0s 2us/step\n",
      "Downloading data from https://storage.googleapis.com/tensorflow/tf-keras-datasets/train-images-idx3-ubyte.gz\n",
      "26421880/26421880 [==============================] - 2s 0us/step\n",
      "Downloading data from https://storage.googleapis.com/tensorflow/tf-keras-datasets/t10k-labels-idx1-ubyte.gz\n",
      "5148/5148 [==============================] - 0s 0s/step\n",
      "Downloading data from https://storage.googleapis.com/tensorflow/tf-keras-datasets/t10k-images-idx3-ubyte.gz\n",
      "4422102/4422102 [==============================] - 0s 0us/step\n",
      "Melhor valor de k: 9\n",
      "Melhor função de distância: manhattan\n",
      "Acurácia no conjunto de teste: 0.8515\n"
     ]
    }
   ],
   "source": [
    "import numpy as np\n",
    "from sklearn.model_selection import train_test_split\n",
    "from sklearn.neighbors import KNeighborsClassifier\n",
    "from sklearn.metrics import accuracy_score\n",
    "from sklearn.preprocessing import StandardScaler\n",
    "from tensorflow.keras.datasets import fashion_mnist\n",
    "\n",
    "# Carregando o conjunto de dados\n",
    "(X_train, y_train), (X_test, y_test) = fashion_mnist.load_data()\n",
    "\n",
    "# Redimensionando os dados de entrada\n",
    "X_train = X_train.reshape(X_train.shape[0], -1)\n",
    "X_test = X_test.reshape(X_test.shape[0], -1)\n",
    "\n",
    "# Normalizando os dados\n",
    "scaler = StandardScaler()\n",
    "X_train = scaler.fit_transform(X_train)\n",
    "X_test = scaler.transform(X_test)\n",
    "\n",
    "# Dividindo o conjunto de treinamento em treinamento, validação e teste (70%, 10%, 20%)\n",
    "X_train, X_val, y_train, y_val = train_test_split(X_train, y_train, test_size=0.3, random_state=42)\n",
    "\n",
    "best_accuracy = 0.0\n",
    "best_k = None\n",
    "best_distance = None\n",
    "\n",
    "for k in range(1, 31):\n",
    "    for distance in ['euclidean', 'manhattan', 'chebyshev']:\n",
    "        # Criação do classificador KNN\n",
    "        knn = KNeighborsClassifier(n_neighbors=k, metric=distance)\n",
    "        \n",
    "        # Treinamento do classificador\n",
    "        knn.fit(X_train, y_train)\n",
    "        \n",
    "        # Previsões no conjunto de validação\n",
    "        y_pred = knn.predict(X_val)\n",
    "        \n",
    "        # Avaliação da acurácia\n",
    "        accuracy = accuracy_score(y_val, y_pred)\n",
    "        \n",
    "        # Verificação se essa configuração é a melhor até agora\n",
    "        if accuracy > best_accuracy:\n",
    "            best_accuracy = accuracy\n",
    "            best_k = k\n",
    "            best_distance = distance\n",
    "\n",
    "# Treinamento final com a melhor configuração\n",
    "knn = KNeighborsClassifier(n_neighbors=best_k, metric=best_distance)\n",
    "knn.fit(X_train, y_train)\n",
    "\n",
    "# Previsões no conjunto de teste\n",
    "y_pred_test = knn.predict(X_test)\n",
    "\n",
    "# Avaliação da acurácia no conjunto de teste\n",
    "accuracy_test = accuracy_score(y_test, y_pred_test)\n",
    "\n",
    "print(\"Melhor valor de k:\", best_k)\n",
    "print(\"Melhor função de distância:\", best_distance)\n",
    "print(\"Acurácia no conjunto de teste:\", accuracy_test)\n"
   ]
  }
 ],
 "metadata": {
  "kernelspec": {
   "display_name": "Python 3",
   "language": "python",
   "name": "python3"
  },
  "language_info": {
   "codemirror_mode": {
    "name": "ipython",
    "version": 3
   },
   "file_extension": ".py",
   "mimetype": "text/x-python",
   "name": "python",
   "nbconvert_exporter": "python",
   "pygments_lexer": "ipython3",
   "version": "3.11.2"
  },
  "orig_nbformat": 4
 },
 "nbformat": 4,
 "nbformat_minor": 2
}
