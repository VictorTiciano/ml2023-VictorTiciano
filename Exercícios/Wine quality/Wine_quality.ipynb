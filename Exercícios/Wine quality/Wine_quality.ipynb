{
  "nbformat": 4,
  "nbformat_minor": 0,
  "metadata": {
    "colab": {
      "provenance": []
    },
    "kernelspec": {
      "name": "python3",
      "display_name": "Python 3"
    },
    "language_info": {
      "name": "python"
    }
  },
  "cells": [
    {
      "cell_type": "code",
      "execution_count": 9,
      "metadata": {
        "colab": {
          "base_uri": "https://localhost:8080/"
        },
        "id": "_uRxNCp0fIDo",
        "outputId": "72e5fb91-503a-427d-f26d-9387d5c452c4"
      },
      "outputs": [
        {
          "output_type": "stream",
          "name": "stdout",
          "text": [
            "MAE no conjunto de treino: 1766559132794.72\n",
            "MAE no conjunto de teste: 1834361152832.15\n",
            "MSE no conjunto de treino: 4184869900022031449063424.00\n",
            "MSE no conjunto de teste: 4642061086185651861192704.00\n"
          ]
        }
      ],
      "source": [
        "import pandas as pd\n",
        "from sklearn.model_selection import train_test_split\n",
        "from sklearn.linear_model import SGDRegressor\n",
        "from sklearn.metrics import mean_absolute_error, mean_squared_error\n",
        "\n",
        "# Leitura do arquivo CSV\n",
        "df = pd.read_csv('https://raw.githubusercontent.com/VictorTiciano/ml2023-VictorTiciano/master/llistas/modelos_lineares/winequality-white.csv', delimiter=';')\n",
        "\n",
        "# Separação dos dados de entrada (X) e saída (y)\n",
        "X = df.drop('quality', axis=1)\n",
        "y = df['quality']\n",
        "\n",
        "# Divisão dos dados em conjuntos de treino e teste\n",
        "X_train, X_test, y_train, y_test = train_test_split(X, y, test_size=0.2, random_state=42)\n",
        "\n",
        "# Criação do modelo\n",
        "model = SGDRegressor(random_state=42)\n",
        "\n",
        "# Treinamento do modelo\n",
        "model.fit(X_train, y_train)\n",
        "\n",
        "# Predição dos valores de saída para o conjunto de treino e teste\n",
        "y_train_pred = model.predict(X_train)\n",
        "y_test_pred = model.predict(X_test)\n",
        "\n",
        "# Cálculo dos erros médios\n",
        "mae_train = mean_absolute_error(y_train, y_train_pred)\n",
        "mae_test = mean_absolute_error(y_test, y_test_pred)\n",
        "mse_train = mean_squared_error(y_train, y_train_pred)\n",
        "mse_test = mean_squared_error(y_test, y_test_pred)\n",
        "\n",
        "print(f'MAE no conjunto de treino: {mae_train:.2f}')\n",
        "print(f'MAE no conjunto de teste: {mae_test:.2f}')\n",
        "print(f'MSE no conjunto de treino: {mse_train:.2f}')\n",
        "print(f'MSE no conjunto de teste: {mse_test:.2f}')\n"
      ]
    },
    {
      "cell_type": "markdown",
      "source": [
        "Foram realizados cálculos do erro absoluto médio (MAE) e do erro quadrático médio (MSE) para os conjuntos de treino e teste do modelo. Observou-se que os valores de MAE e MSE foram bastante similares para ambos os conjuntos, o que sugere que o modelo não apresentou nenhum dos problemas comuns de ajuste excessivo (overfitting) ou subajuste (underfitting). Assim, pode-se afirmar que o modelo se saiu igualmente bem para os dois conjuntos de dados."
      ],
      "metadata": {
        "id": "k7bydbtXhVw6"
      }
    }
  ]
}