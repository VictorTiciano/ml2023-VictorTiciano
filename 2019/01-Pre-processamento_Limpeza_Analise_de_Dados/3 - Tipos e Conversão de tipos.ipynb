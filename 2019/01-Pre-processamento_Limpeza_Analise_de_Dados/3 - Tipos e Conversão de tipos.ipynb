{
  "cells": [
    {
      "cell_type": "markdown",
      "metadata": {
        "id": "view-in-github",
        "colab_type": "text"
      },
      "source": [
        "<a href=\"https://colab.research.google.com/github/VictorTiciano/ml2023-VictorTiciano/blob/master/2019/01-Pre-processamento_Limpeza_Analise_de_Dados/3%20-%20Tipos%20e%20Convers%C3%A3o%20de%20tipos.ipynb\" target=\"_parent\"><img src=\"https://colab.research.google.com/assets/colab-badge.svg\" alt=\"Open In Colab\"/></a>"
      ]
    },
    {
      "cell_type": "markdown",
      "metadata": {
        "id": "p2lAn1fMNrns"
      },
      "source": [
        "# 3 - Tipos e Conversão de tipos\n",
        "O Numpy suporta uma variedade de tipos muito maior do que o Python."
      ]
    },
    {
      "cell_type": "markdown",
      "metadata": {
        "id": "PLojqlTrNrnu"
      },
      "source": [
        "Existem 5 tipos básicos numéricos\n",
        "- Booleans (bool)\n",
        "- Integers (int)\n",
        "- Unsigned Intergers (uint)\n",
        "- Floating Points (float)\n",
        "- Complex\n",
        "\n",
        "Complementarmente, a célula abaixo mostra um quadro comparativos com uma maior quantidade de tipos do Numpy."
      ]
    },
    {
      "cell_type": "markdown",
      "metadata": {
        "id": "dJfCCbgNNrnv"
      },
      "source": [
        "![datatypes.png](attachment:datatypes.png)"
      ]
    },
    {
      "cell_type": "markdown",
      "source": [
        "Mostra os tipos que o numpy suporta, como fazer conversão de tipos e como identificar o tipo de um array."
      ],
      "metadata": {
        "id": "ORO8qeWmPXHH"
      }
    },
    {
      "cell_type": "code",
      "execution_count": 1,
      "metadata": {
        "id": "4IrA5E8KNrnv"
      },
      "outputs": [],
      "source": [
        "import numpy as np"
      ]
    },
    {
      "cell_type": "code",
      "execution_count": 2,
      "metadata": {
        "colab": {
          "base_uri": "https://localhost:8080/"
        },
        "id": "vyAxn4HZNrnw",
        "outputId": "300e4f55-82f7-4a5d-9c69-eee8ec52bf4c"
      },
      "outputs": [
        {
          "output_type": "execute_result",
          "data": {
            "text/plain": [
              "1.0"
            ]
          },
          "metadata": {},
          "execution_count": 2
        }
      ],
      "source": [
        "x = np.float32(1.0)\n",
        "x"
      ]
    },
    {
      "cell_type": "code",
      "execution_count": 3,
      "metadata": {
        "colab": {
          "base_uri": "https://localhost:8080/"
        },
        "id": "n5B6cuw8Nrnx",
        "outputId": "4a4fc1c5-1154-423b-8872-33da3d54e036"
      },
      "outputs": [
        {
          "output_type": "execute_result",
          "data": {
            "text/plain": [
              "array([1, 2, 4])"
            ]
          },
          "metadata": {},
          "execution_count": 3
        }
      ],
      "source": [
        "y = np.int_([1,2,4])\n",
        "y"
      ]
    },
    {
      "cell_type": "code",
      "execution_count": 4,
      "metadata": {
        "colab": {
          "base_uri": "https://localhost:8080/"
        },
        "id": "9jT6Ul5iNrnx",
        "outputId": "2c94ff74-d5dc-4444-bc37-42bbb45fe120"
      },
      "outputs": [
        {
          "output_type": "execute_result",
          "data": {
            "text/plain": [
              "array([0, 1, 2], dtype=uint8)"
            ]
          },
          "metadata": {},
          "execution_count": 4
        }
      ],
      "source": [
        "z = np.arange(3, dtype=np.uint8)\n",
        "z"
      ]
    },
    {
      "cell_type": "code",
      "execution_count": 5,
      "metadata": {
        "colab": {
          "base_uri": "https://localhost:8080/"
        },
        "id": "qWyDQ7FJNrnx",
        "outputId": "f3ecac6e-ced3-49a6-c5a8-0d8a153780de"
      },
      "outputs": [
        {
          "output_type": "execute_result",
          "data": {
            "text/plain": [
              "array([1., 2., 3.], dtype=float32)"
            ]
          },
          "metadata": {},
          "execution_count": 5
        }
      ],
      "source": [
        "np.array([1, 2, 3], dtype='f')"
      ]
    },
    {
      "cell_type": "markdown",
      "metadata": {
        "id": "cYPJ6XJINrnx"
      },
      "source": [
        "## Convertendo tipos de arrays"
      ]
    },
    {
      "cell_type": "markdown",
      "metadata": {
        "id": "7XaWumBbNrnx"
      },
      "source": [
        "Para convertermos arrays Numpy, basta utilizarmos o método astype()."
      ]
    },
    {
      "cell_type": "code",
      "execution_count": 6,
      "metadata": {
        "colab": {
          "base_uri": "https://localhost:8080/"
        },
        "id": "lI-P6hM2Nrny",
        "outputId": "7a6196ef-1171-4c6a-b8ab-61f351d03e1e"
      },
      "outputs": [
        {
          "output_type": "execute_result",
          "data": {
            "text/plain": [
              "array([0., 1., 2.])"
            ]
          },
          "metadata": {},
          "execution_count": 6
        }
      ],
      "source": [
        "z.astype(float)"
      ]
    },
    {
      "cell_type": "code",
      "execution_count": 7,
      "metadata": {
        "colab": {
          "base_uri": "https://localhost:8080/"
        },
        "id": "2v3r4kNeNrny",
        "outputId": "046fb390-fc68-4fd5-a350-b00c745a36ef"
      },
      "outputs": [
        {
          "output_type": "execute_result",
          "data": {
            "text/plain": [
              "array([0, 1, 2], dtype=int8)"
            ]
          },
          "metadata": {},
          "execution_count": 7
        }
      ],
      "source": [
        "np.int8(z)"
      ]
    },
    {
      "cell_type": "markdown",
      "metadata": {
        "id": "ksq28lMxNrny"
      },
      "source": [
        "Para verificarmos o tipo de um array Numpy, basta verificarmos o seu atributo dtype."
      ]
    },
    {
      "cell_type": "code",
      "execution_count": 8,
      "metadata": {
        "colab": {
          "base_uri": "https://localhost:8080/"
        },
        "id": "TaxXb77pNrny",
        "outputId": "1dda968b-95f9-425f-9abf-3fc8187ccb1b"
      },
      "outputs": [
        {
          "output_type": "execute_result",
          "data": {
            "text/plain": [
              "dtype('uint8')"
            ]
          },
          "metadata": {},
          "execution_count": 8
        }
      ],
      "source": [
        "z.dtype"
      ]
    }
  ],
  "metadata": {
    "kernelspec": {
      "display_name": "Python 3",
      "language": "python",
      "name": "python3"
    },
    "language_info": {
      "codemirror_mode": {
        "name": "ipython",
        "version": 3
      },
      "file_extension": ".py",
      "mimetype": "text/x-python",
      "name": "python",
      "nbconvert_exporter": "python",
      "pygments_lexer": "ipython3",
      "version": "3.6.8"
    },
    "colab": {
      "provenance": [],
      "include_colab_link": true
    }
  },
  "nbformat": 4,
  "nbformat_minor": 0
}